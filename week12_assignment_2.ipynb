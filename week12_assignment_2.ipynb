{
  "cells": [
    {
      "cell_type": "markdown",
      "metadata": {
        "id": "view-in-github",
        "colab_type": "text"
      },
      "source": [
        "<a href=\"https://colab.research.google.com/github/MeghanaSen/-HD5210-homework-/blob/main/week12_assignment_2.ipynb\" target=\"_parent\"><img src=\"https://colab.research.google.com/assets/colab-badge.svg\" alt=\"Open In Colab\"/></a>"
      ]
    },
    {
      "cell_type": "markdown",
      "metadata": {
        "id": "P8-KtOl9gXhM"
      },
      "source": [
        "# Week 11 Assignment\n",
        "\n",
        "\n",
        "Please do the programming exercise and verify that your code works using the tests, then think about your final project and fill out the questions in the second part.\n",
        "\n",
        "---\n",
        "---"
      ]
    },
    {
      "cell_type": "markdown",
      "metadata": {
        "id": "Gv1fcDdpgXhM"
      },
      "source": [
        "### 47.1: Filtering and summarizing data\n",
        "\n",
        "For this work, you'll find a data file in `https://hds5210-data.s3.amazonaws.com/complications_all.csv`.\n",
        "\n",
        "Read in the data file and create a variable called `mo_hospitals` that contains a data frame from the `complications_all.csv` file, filtered down to only contain those hospitals from the state of Missouri (MO).\n",
        "\n",
        "Then aggregate that data by hospital into a variable named `mo_summary`.  There are some key fields that we want to summarize:\n",
        "* We want to know the earliest date that each hospital was participating in any program\n",
        "* We want to know the latest date that each hospital stopped participating in any program\n",
        "* We want to know the total number of patients in the denominators of these programs\n",
        "\n",
        "Some things to note:\n",
        "* You will need to convert the `Start Date` and `End Date` to actual datetime fields\n",
        "* You will need to clean up and convert the `Denominator` field to just be numeric - the rule that you should use it to simply remove any records where the `Denominator` is `'Not Available'`\n",
        "\n",
        "\n",
        "The final result of this step should be a new data frame called `mo_summary` that contains one row for each hospital and contains the min start date, max end date, and total denominator.  Use the names `start_date`, `end_date`, and `number` for those columns in `mo_summary`.\n",
        "\n",
        "\n",
        "You do not need to create your code in the form of a function, just make sure your variable names match what I've described above so the tests work."
      ]
    },
    {
      "cell_type": "code",
      "execution_count": null,
      "metadata": {
        "id": "1pC7aEpNgXhN"
      },
      "outputs": [],
      "source": [
        "import pandas as pd\n",
        "# This is just to show you the name to use for the variable you need to create for this step to pass.\n",
        "all_hospitals = pd.read_csv('https://hds5210-data.s3.amazonaws.com/complications_all.csv')\n"
      ]
    },
    {
      "cell_type": "code",
      "execution_count": null,
      "metadata": {
        "id": "-0VRrqLrgXhN",
        "outputId": "db3a30d0-fc1a-449f-ed27-7b49709110a1",
        "colab": {
          "base_uri": "https://localhost:8080/"
        }
      },
      "outputs": [
        {
          "output_type": "stream",
          "name": "stdout",
          "text": [
            "                                              start_date             end_date  \\\n",
            "Facility Name                                                                   \n",
            "BARNES JEWISH HOSPITAL               2015-04-01 00:00:00  2018-06-30 00:00:00   \n",
            "BARNES-JEWISH ST PETERS HOSPITAL     2015-04-01 00:00:00  2018-06-30 00:00:00   \n",
            "BARNES-JEWISH WEST COUNTY HOSPITAL   2015-04-01 00:00:00  2018-06-30 00:00:00   \n",
            "BATES COUNTY MEMORIAL HOSPITAL       2015-07-01 00:00:00  2018-06-30 00:00:00   \n",
            "BELTON REGIONAL MEDICAL CENTER       2015-04-01 00:00:00  2018-06-30 00:00:00   \n",
            "...                                                  ...                  ...   \n",
            "TRUMAN MEDICAL CENTER LAKEWOOD       2015-04-01 00:00:00  2018-06-30 00:00:00   \n",
            "UNIVERSITY OF MISSOURI HEALTH CARE   2015-04-01 00:00:00  2018-06-30 00:00:00   \n",
            "WASHINGTON COUNTY MEMORIAL HOSPITAL  2015-07-01 00:00:00  2018-06-30 00:00:00   \n",
            "WESTERN MISSOURI MEDICAL CENTER      2015-04-01 00:00:00  2018-06-30 00:00:00   \n",
            "WRIGHT MEMORIAL HOSPITAL             2015-07-01 00:00:00  2018-06-30 00:00:00   \n",
            "\n",
            "                                     number  \n",
            "Facility Name                                \n",
            "BARNES JEWISH HOSPITAL               131313  \n",
            "BARNES-JEWISH ST PETERS HOSPITAL      15668  \n",
            "BARNES-JEWISH WEST COUNTY HOSPITAL     9622  \n",
            "BATES COUNTY MEMORIAL HOSPITAL         3117  \n",
            "BELTON REGIONAL MEDICAL CENTER         9270  \n",
            "...                                     ...  \n",
            "TRUMAN MEDICAL CENTER LAKEWOOD         4297  \n",
            "UNIVERSITY OF MISSOURI HEALTH CARE    56493  \n",
            "WASHINGTON COUNTY MEMORIAL HOSPITAL     220  \n",
            "WESTERN MISSOURI MEDICAL CENTER        7254  \n",
            "WRIGHT MEMORIAL HOSPITAL                198  \n",
            "\n",
            "[108 rows x 3 columns]\n"
          ]
        }
      ],
      "source": [
        "\n",
        "mo_hospitals = all_hospitals[all_hospitals['State'] == 'MO'].copy()\n",
        "\n",
        "mo_hospitals.loc[:, 'Denominator'] = pd.to_numeric(\n",
        "    mo_hospitals['Denominator'], errors='coerce'\n",
        ")\n",
        "\n",
        "\n",
        "mo_hospitals = mo_hospitals.dropna(subset=['Denominator'])\n",
        "\n",
        "\n",
        "mo_hospitals.loc[:, 'Denominator'] = mo_hospitals['Denominator'].astype(int)\n",
        "\n",
        "\n",
        "mo_hospitals.loc[:, 'Start Date'] = pd.to_datetime(\n",
        "    mo_hospitals['Start Date'], errors='coerce'\n",
        ")\n",
        "mo_hospitals.loc[:, 'End Date'] = pd.to_datetime(\n",
        "    mo_hospitals['End Date'], errors='coerce'\n",
        ")\n",
        "\n",
        "\n",
        "mo_summary = (\n",
        "    mo_hospitals\n",
        "    .groupby('Facility Name')\n",
        "    .agg(\n",
        "        start_date=('Start Date', 'min'),\n",
        "        end_date=('End Date', 'max'),\n",
        "        number=('Denominator', 'sum')\n",
        "    )\n",
        "    .reset_index()\n",
        ")\n",
        "\n",
        "mo_summary = mo_summary.set_index('Facility Name')\n",
        "\n",
        "print(mo_summary)\n"
      ]
    },
    {
      "cell_type": "code",
      "execution_count": null,
      "metadata": {
        "id": "bmhT8rb3gXhN"
      },
      "outputs": [],
      "source": [
        "assert(mo_summary['number'].sum() == 1766908)\n",
        "assert(mo_summary['start_date'].min() == pd.Timestamp(2015,4,1))\n",
        "assert(mo_summary['end_date'].max() == pd.Timestamp(2018,6,30))\n",
        "assert(mo_summary.shape == (108,3))\n",
        "assert(mo_summary.loc['BARNES JEWISH HOSPITAL'].number == 131313)\n",
        "assert(mo_summary.loc['BOONE HOSPITAL CENTER'].number == 63099)"
      ]
    },
    {
      "cell_type": "markdown",
      "metadata": {
        "id": "urwVv1zlgXhN"
      },
      "source": [
        "---\n",
        "\n",
        "### 47.2 Planning your final project\n",
        "\n",
        "You should be thinking about the things we've been learning and how you can apply them to your final project.  Use the rubric to help guid your thinking and then answer the questions below.  This is meant as a guide to help you think through what you will do."
      ]
    },
    {
      "cell_type": "markdown",
      "metadata": {
        "id": "2QRR-6sJgXhN"
      },
      "source": [
        "#### A) Data Access\n",
        "\n",
        "Your project should include data from at least three distinct types of sources.  For example: AWS S3, Relational Databases, Internet, Web Services, local files.  List what data sources you're planning to use."
      ]
    },
    {
      "cell_type": "markdown",
      "metadata": {
        "id": "3paB6EVRgXhN"
      },
      "source": [
        "**Double-click to enter your answer**\n",
        "\n",
        "In this project, I will utilize three types of sources in the attempt to be both diverse and comprehensive for my dataset. First, I have local files-in particular, CSV files stored on my local machine. These can be very easily accessed through Python's pandas library for efficient data analysis. Then, I will use Google BigQuery, an extremely strong, cloud-based relational database. With the help of BigQuery, I would be able to run complex SQL queries in order to extract and analyze structured large volumes of data, thus adding depth to the analysis of the project. Finally, I'm going to make use of **Internet** data, by calling publicly available APIs. This will allow access to real-time or current information from various online sources, which will include healthcare, financial, or indeed any other type of API-specific sources using Python's requests library to fetch JSON data. Combining these three sources of information-local files, a relational database, and web-based APIs-provides a rounded data set which could support strong, enlightening analysis."
      ]
    },
    {
      "cell_type": "markdown",
      "metadata": {
        "id": "t6NMZT9DgXhO"
      },
      "source": [
        "#### B. Data Formats\n",
        "\n",
        "Your project should include data that comes in different file formats.  For example: HL7, EDI, HTML, CSV, Excel, JSON, XML.  List what data formats you're planning to use."
      ]
    },
    {
      "cell_type": "markdown",
      "metadata": {
        "id": "vZwPK8EIgXhO"
      },
      "source": [
        "**Double-click to enter your answer**\n",
        "\n",
        "I will make use of varied formats in my project to ensure that my data set is as large and diverse as it can be. Therefore, there will be use of **CSV** on structured tabular data, handling multisheet data with **Excel**, and dealing with complex nested data typically extracted from web APIs with **JSON**. For scraping tables of data from websites, I'll use HTML. Other source types will include structured data acquired through known industry-specific standards such as healthcare and finance using **XML**. I try to use such diversified formats to enhance the flexibility and depth of data analysis.\n"
      ]
    },
    {
      "cell_type": "markdown",
      "metadata": {
        "id": "Y-v6yWIfgXhO"
      },
      "source": [
        "#### C. Objective\n",
        "\n",
        "What purpose would your project serve in a real work setting?  Take a couple of paragraphs to write down why this is an interesting product."
      ]
    },
    {
      "cell_type": "markdown",
      "metadata": {
        "id": "VNI4coKVgXhO"
      },
      "source": [
        "**Double-click to enter your answer**\n",
        "\n",
        "It will be a powerful tool in any natural work environment, aggregating data from various diversified sources to a unified platform from which informed decisions are made by organizations. Drawing data from AWS S3, relational databases like Google BigQuery, and real-time web services, the project allows wide analysis by stitching together historical, structured, and real-time data. This becomes very valuable in industries based on large-scale data analysis, such as healthcare, finance, and retail, where access to internal and external data can provide operational efficiency and strategic insight.\n",
        "\n",
        "The project is exciting because it brings different data formats and types together in a way that business houses can bridge the gaps between different data silos. Supported formats like CSV, Excel, JSON, HTML, XML, among others-the data from various departments, external APIs, or online sources-is analyzed together seamlessly without much hassle. Such methods will especially be of use in the areas of healthcare because the data is often broken up between various systems or even formats. For instance, it may link performance with public health real-time data and make the determination much more perceptive and responsive in relation to the trends in health. The reason this solution is valuable is because of the diversity within that solution itself, and to any organization interested in leveraging data for a competitive advantage and better decision-making through comprehensive and integrated analytics.\n"
      ]
    },
    {
      "cell_type": "markdown",
      "metadata": {
        "id": "mmNENAXcgXhO"
      },
      "source": [
        "\n",
        "\n",
        "---\n",
        "\n",
        "\n",
        "\n",
        "## Submit your work via GitHub as normal\n"
      ]
    }
  ],
  "metadata": {
    "kernelspec": {
      "display_name": "Python 3",
      "language": "python",
      "name": "python3"
    },
    "language_info": {
      "codemirror_mode": {
        "name": "ipython",
        "version": 3
      },
      "file_extension": ".py",
      "mimetype": "text/x-python",
      "name": "python",
      "nbconvert_exporter": "python",
      "pygments_lexer": "ipython3",
      "version": "3.9.16"
    },
    "colab": {
      "provenance": [],
      "include_colab_link": true
    }
  },
  "nbformat": 4,
  "nbformat_minor": 0
}