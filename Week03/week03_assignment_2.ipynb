{
  "cells": [
    {
      "cell_type": "markdown",
      "metadata": {
        "id": "view-in-github",
        "colab_type": "text"
      },
      "source": [
        "<a href=\"https://colab.research.google.com/github/MeghanaSen/-HD5210-homework-/blob/main/Week03/week03_assignment_2.ipynb\" target=\"_parent\"><img src=\"https://colab.research.google.com/assets/colab-badge.svg\" alt=\"Open In Colab\"/></a>"
      ]
    },
    {
      "cell_type": "markdown",
      "metadata": {
        "nbgrader": {
          "grade": false,
          "grade_id": "intro",
          "locked": true,
          "schema_version": 1,
          "solution": false
        },
        "id": "5CeVkubHJNb3"
      },
      "source": [
        "# Week 3 Exercises\n",
        "\n",
        "See: _McKinney 2.3_ and [Python Documentation](https://docs.python.org/3/tutorial/controlflow.html) section 4 on flow control.\n",
        "\n",
        "\n",
        "**At the begining of the semester, all of the workshop programming exercises will be structured a specific way to make it easier to verify for yourself that you're on the right track as well as easier for me to do a first pass on automated grading.  The structure of each question will require you to write a function using Python code. Don't worry that we haven't talked about functions yet. Just edit the code between** `### BEGIN SOLUTION` and `### END SOLUTION` **as shown in the example below.**\n"
      ]
    },
    {
      "cell_type": "markdown",
      "metadata": {
        "id": "IfZ4A-oQJNb5"
      },
      "source": [
        "**WHAT I PROVIDE:**\n",
        "```\n",
        "def some_function(parameter1, parameter2):\n",
        "\n",
        "   ### BEGIN SOLUTION\n",
        "   x = -1\n",
        "   ### END SOLUTION\n",
        "   \n",
        "   return x\n",
        "```\n",
        "\n",
        "**WHAT YOU SHOULD DO:** Just change the parameter names (if you feel you need to) and the calculations between `### BEGIN SOLUTION` and `### END SOLUTION`.  This is just a made up example.\n",
        "```\n",
        "def some_function(a, b):\n",
        "\n",
        "   ### BEGIN SOLUTION\n",
        "   temp = a + b\n",
        "   x = temp / a * b\n",
        "   ### END SOLUTION\n",
        "   \n",
        "   return x\n",
        "```\n"
      ]
    },
    {
      "cell_type": "markdown",
      "metadata": {
        "id": "Um9gQFpHJNb6"
      },
      "source": [
        "---\n",
        "---\n",
        "\n",
        "**Below each programming exercise are some tests (`assertions`) that verify your code is working correctly.  If any assertions fail, you know that something isnt' right with your code, but having all assertions pass doesn't necessarily mean your code is perfect, yet. You should also create your own tests to make sure your code is correct.**\n",
        "\n",
        "**For now, please don't change any function names**"
      ]
    },
    {
      "cell_type": "markdown",
      "metadata": {
        "id": "zFOU478XJNb6"
      },
      "source": [
        "### 14.1 Difference in rate per 1,000\n",
        "\n",
        "Often in public health, we report metrics as a number per 1,000 or per 1,000,000 in population. The purpose of that is to normalize the numbers between area of larger and smaller populations.\n",
        "\n",
        "Below, we have a function already built to calculate teh different in rate per 1,000 in two different regions.  The function normalizes them and then prints out a message describing their difference."
      ]
    },
    {
      "cell_type": "code",
      "execution_count": null,
      "metadata": {
        "id": "NhBTRKyxJNb6"
      },
      "outputs": [],
      "source": [
        "def diff_in_rate_normalized(count_a, total_a, count_b, total_b):\n",
        "    \"\"\"(int,int,int,int) -> str\n",
        "    * count_a is the number of occurences in area A\n",
        "    * total_a is the total population in area A\n",
        "    * count_b is the number of occurences in area B\n",
        "    * total_b is the total population in area B\n",
        "\n",
        "    This function returns a string describing how A and B compare in terms of occurence rates per 1,000 population.\"\"\"\n",
        "\n",
        "    rate_a = count_a / total_a * 1000\n",
        "    rate_b = count_b / total_b * 1000\n",
        "\n",
        "    if rate_a == rate_b:\n",
        "        msg = \"The rate in A and the rate in B are the same ({}).\".format(rate_a)\n",
        "    elif rate_a > rate_b:\n",
        "        msg = \"The rate in A ({}) is greater than the rate in B ({}).\".format(rate_a, rate_b)\n",
        "    else:\n",
        "        msg = \"The rate in A ({}) is less than the rate in B ({})\".format(rate_a, rate_b)\n",
        "\n",
        "    return msg"
      ]
    },
    {
      "cell_type": "code",
      "execution_count": null,
      "metadata": {
        "id": "TLd6XG4dJNb7",
        "outputId": "50ce1570-6fd7-4ba0-edc3-4d0e8c693149"
      },
      "outputs": [
        {
          "name": "stdout",
          "output_type": "stream",
          "text": [
            "The rate in A (1.0) is less than the rate in B (1.5)\n"
          ]
        }
      ],
      "source": [
        "rate_covid_testing = diff_in_rate_normalized(1,1000,15,10000)\n",
        "print(rate_covid_testing)"
      ]
    },
    {
      "cell_type": "code",
      "source": [
        "'The rate in A and the rate in B are the same (3.0)'"
      ],
      "metadata": {
        "id": "4H5btu_7JpV6",
        "outputId": "5de14baa-b9e4-4e72-c793-7c731caa257f",
        "colab": {
          "base_uri": "https://localhost:8080/",
          "height": 35
        }
      },
      "execution_count": 51,
      "outputs": [
        {
          "output_type": "execute_result",
          "data": {
            "text/plain": [
              "'The rate in A and the rate in B are the same (3.0)'"
            ],
            "application/vnd.google.colaboratory.intrinsic+json": {
              "type": "string"
            }
          },
          "metadata": {},
          "execution_count": 51
        }
      ]
    },
    {
      "cell_type": "code",
      "source": [],
      "metadata": {
        "id": "68jFB2cGJmIm"
      },
      "execution_count": null,
      "outputs": []
    },
    {
      "cell_type": "markdown",
      "metadata": {
        "id": "ydPRsvQcJNb8"
      },
      "source": [
        "### 14.2 Trimming outliers\n",
        "\n",
        "While it works well in most cases, in practice, this may not truly make numbers comparable between extremely large population centers (e.g. New York City at 8.5 million) and very small rural areas (e.g. Meeteese, WY at 459 people).\n",
        "\n",
        "Let's take that function and make some adjustments.  If the total population of either A or B is more than 100 times larger than the other, then we want to return a different message.  That is, if the populations are more than two orders of magnitude different, then we shouldn't try to compare them."
      ]
    },
    {
      "cell_type": "code",
      "execution_count": null,
      "metadata": {
        "id": "w9Wut1ZXJNb9"
      },
      "outputs": [],
      "source": [
        "def diff_in_rate_normalized(count_a, total_a, count_b, total_b):\n",
        "    \"\"\"(int,int,int,int) -> str\n",
        "    * count_a is the number of occurences in area A\n",
        "    * total_a is the total population in area A\n",
        "    * count_b is the number of occurences in area B\n",
        "    * total_b is the total population in area B\n",
        "\n",
        "    This function returns a string describing how A and B compare in terms of occurence rates per 1,000 population.\n",
        "\n",
        "    If total_a / total_b > 100 OR total_b / total_a > 100 then we'll return a message saying the two can't be compared.\n",
        "    \"The total populations in A and B are so different that they can't be compared.\"\n",
        "    \"\"\"\n",
        "\n",
        "    # Do some work to write a msg\n",
        "    msg = \"I didn't write any code, yet\"\n",
        "\n",
        "    return msg"
      ]
    },
    {
      "cell_type": "code",
      "source": [
        "'The total population among A and B are compared'"
      ],
      "metadata": {
        "id": "Tid2paAsJ9VK",
        "outputId": "9e821afe-0b6e-479a-ba8b-af7129592d04",
        "colab": {
          "base_uri": "https://localhost:8080/",
          "height": 35
        }
      },
      "execution_count": 53,
      "outputs": [
        {
          "output_type": "execute_result",
          "data": {
            "text/plain": [
              "'The total population among A and B are compared'"
            ],
            "application/vnd.google.colaboratory.intrinsic+json": {
              "type": "string"
            }
          },
          "metadata": {},
          "execution_count": 53
        }
      ]
    },
    {
      "cell_type": "code",
      "execution_count": null,
      "metadata": {
        "id": "_QSnctW8JNb9",
        "outputId": "d49b61bc-9a4a-4cb4-f44b-4bf046d54c71"
      },
      "outputs": [
        {
          "data": {
            "text/plain": [
              "'The rate in A (10.893246187363834)is greater than the rate in B (3.5294117647058827) per 1,000'"
            ]
          },
          "execution_count": 5,
          "metadata": {},
          "output_type": "execute_result"
        }
      ],
      "source": [
        "diff_in_rate_normalized(5, 459, 30, 8500)"
      ]
    },
    {
      "cell_type": "markdown",
      "metadata": {
        "nbgrader": {
          "grade": false,
          "grade_id": "bmi",
          "locked": true,
          "schema_version": 1,
          "solution": false
        },
        "id": "qxj6seI7JNb-"
      },
      "source": [
        "### 14.3 LACE Score\n",
        "There is a simple readmission index called the LACE Score: https://www.hindawi.com/journals/bmri/2015/169870/tab1/\n",
        "\n",
        "Use this documentation to create a function that can compute LACE scores based on the 4 input parameters.  Below is the function signature and documentation that you start with."
      ]
    },
    {
      "cell_type": "code",
      "execution_count": 57,
      "metadata": {
        "nbgrader": {
          "grade": false,
          "grade_id": "bmi-answer",
          "locked": false,
          "schema_version": 1,
          "solution": true
        },
        "id": "bko6npMzJNb-"
      },
      "outputs": [],
      "source": [
        "def LACE(length_of_stay, acute_flag, charlson, ed_visits):\n",
        "    \"\"\"(int, bool, int, int) -> int\n",
        "    This function uses the logic from https://www.hindawi.com/journals/bmri/2015/169870/tab1/\n",
        "    to compute the LACE score for this patient.\n",
        "\n",
        "    >>> LACE(4, False, 1, 0)\n",
        "    5\n",
        "\n",
        "    >>> LACE(4, True, 4, 7)\n",
        "    16\n",
        "\n",
        "    \"\"\"\n",
        "    score = -1\n",
        "    length_of_stay_points = 0\n",
        "    acute_flag_points = 0\n",
        "    charlson_points = 0\n",
        "    ed_visits_points = 0\n",
        "\n",
        "    # Calculate length_of_stay_points\n",
        "    if length_of_stay < 1:\n",
        "        length_of_stay_points = 0\n",
        "    elif length_of_stay == 1:\n",
        "        length_of_stay_points = 1\n",
        "    elif length_of_stay == 2:\n",
        "        length_of_stay_points = 2\n",
        "    elif length_of_stay == 3:\n",
        "        length_of_stay_points = 3\n",
        "    elif length_of_stay >= 4 and length_of_stay <= 6:\n",
        "        length_of_stay_points = 4\n",
        "    elif length_of_stay >= 7 and length_of_stay <= 13:\n",
        "        length_of_stay_points = 5\n",
        "    else:\n",
        "        length_of_stay_points = 7\n",
        "\n",
        "    # Calculate acute_flag_points\n",
        "    if acute_flag:\n",
        "        acute_flag_points = 3\n",
        "\n",
        "    # Calculate charlson_points\n",
        "    if charlson == 0:\n",
        "        charlson_points = 0\n",
        "    elif charlson == 1:\n",
        "        charlson_points = 1\n",
        "    elif charlson == 2:\n",
        "        charlson_points = 2\n",
        "    elif charlson == 3:\n",
        "        charlson_points = 3\n",
        "    else:\n",
        "        charlson_points = 5\n",
        "\n",
        "    # Calculate ed_visits_points\n",
        "    if ed_visits == 0:\n",
        "        ed_visits_points = 0\n",
        "    elif ed_visits == 1:\n",
        "        ed_visits_points = 1\n",
        "    elif ed_visits == 2:\n",
        "        ed_visits_points = 2\n",
        "    elif ed_visits == 3:\n",
        "        ed_visits_points = 3\n",
        "    else:\n",
        "        ed_visits_points = 4\n",
        "\n",
        "    # Calculate the total score\n",
        "    score = length_of_stay_points + acute_flag_points + charlson_points + ed_visits_points\n",
        "\n",
        "    return score\n",
        "\n"
      ]
    },
    {
      "cell_type": "code",
      "execution_count": null,
      "metadata": {
        "nbgrader": {
          "grade": true,
          "grade_id": "bmi-test",
          "locked": true,
          "points": 10,
          "schema_version": 1,
          "solution": false
        },
        "id": "_O89QkCjJNb-"
      },
      "outputs": [],
      "source": [
        "assert LACE(4, False, 1, 0) == 5\n",
        "assert LACE(4, True, 4, 7) == 16"
      ]
    },
    {
      "cell_type": "code",
      "execution_count": null,
      "metadata": {
        "id": "aa_KP6qtJNb-"
      },
      "outputs": [],
      "source": []
    },
    {
      "cell_type": "markdown",
      "metadata": {
        "nbgrader": {
          "grade": false,
          "grade_id": "weight",
          "locked": true,
          "schema_version": 1,
          "solution": false
        },
        "id": "zJcouQW4JNb-"
      },
      "source": [
        "### 14.4 Care Management Criteria\n",
        "\n",
        "Care managers use LACE as part of the criteria for assigning a care coodinator to a patient who has been recently discharged. If the score is above 10, then a care coordinator will be assigned. The other criteria they use is if the patient has been discharged with a diagnosis of CHF or COPD.  If the diagnosis field has CHF or COPD in it, then the patient will have a care coordinator assigned.\n",
        "\n",
        "For this exercise, write another function that takes the same inputs as LACE() plus another diagnosis parameter, and return True or False depending on if the paient needs a care coordinator.\n",
        "\n",
        "**NOTE** Pay attention to the fact that the order of parameters in this function definition are not the same as the order they were in the LACE score.  "
      ]
    },
    {
      "cell_type": "code",
      "execution_count": 59,
      "metadata": {
        "nbgrader": {
          "grade": false,
          "grade_id": "weight-answer",
          "locked": false,
          "schema_version": 1,
          "solution": true
        },
        "id": "tuji5UIlJNb_"
      },
      "outputs": [],
      "source": [
        "def assign_care_coordinator(diagnosis_cd, ed_visits, length_of_stay, acute_flag, charlson):\n",
        "    \"\"\" (str, int, int, bool, int) -> bool\n",
        "    Care managers use LACE as part of the criteria for assigning a care coodinator to a\n",
        "    patient who has been recently discharged. If the score is above 10, then a care\n",
        "    coordinator will be assigned. The other criteria they use is if the patient has been\n",
        "    discharged with a diagnosis of CHF or COPD. If the diagnosis field has CHF or COPD in\n",
        "    it, then the patient will have a care coordinator assigned.\n",
        "\n",
        "    >>> assign_care_coordinator('None', 0, 4, False, 1)\n",
        "    False\n",
        "\n",
        "    >>> assign_care_coordinator('CHF', 0, 4, False, 1)\n",
        "    True\n",
        "\n",
        "    >>> assign_care_coordinator('COPD', 0, 4, False, 1)\n",
        "    True\n",
        "\n",
        "    >>> assign_care_coordinator('None', 7, 4, True, 4)\n",
        "    True\n",
        "\n",
        "    >>> assign_care_coordinator('CHF', 7, 4, True, 4)\n",
        "    True\n",
        "    \"\"\"\n",
        "    length_of_stay_points = 0\n",
        "    acute_flag_points = 0\n",
        "    charlson_points = 0\n",
        "    ed_visits_points = 0\n",
        "\n",
        "    # Calculate length_of_stay_points\n",
        "    if length_of_stay < 1:\n",
        "        length_of_stay_points = 0\n",
        "    elif length_of_stay == 1:\n",
        "        length_of_stay_points = 1\n",
        "    elif length_of_stay == 2:\n",
        "        length_of_stay_points = 2\n",
        "    elif length_of_stay == 3:\n",
        "        length_of_stay_points = 3\n",
        "    elif length_of_stay >= 4 and length_of_stay <= 6:\n",
        "        length_of_stay_points = 4\n",
        "    elif length_of_stay >= 7 and length_of_stay <= 13:\n",
        "        length_of_stay_points = 5\n",
        "    else:\n",
        "        length_of_stay_points = 7\n",
        "\n",
        "    # Calculate acute_flag_points\n",
        "    if acute_flag:\n",
        "        acute_flag_points = 3\n",
        "\n",
        "    # Calculate charlson_points\n",
        "    if charlson == 0:\n",
        "        charlson_points = 0\n",
        "    elif charlson == 1:\n",
        "        charlson_points = 1\n",
        "    elif charlson == 2:\n",
        "        charlson_points = 2\n",
        "    elif charlson == 3:\n",
        "        charlson_points = 3\n",
        "    else:\n",
        "        charlson_points = 5\n",
        "\n",
        "    # Calculate ed_visits_points\n",
        "    if ed_visits == 0:\n",
        "        ed_visits_points = 0\n",
        "    elif ed_visits == 1:\n",
        "        ed_visits_points = 1\n",
        "    elif ed_visits == 2:\n",
        "        ed_visits_points = 2\n",
        "    elif ed_visits == 3:\n",
        "        ed_visits_points = 3\n",
        "    else:\n",
        "        ed_visits_points = 4\n",
        "\n",
        "    # Calculate total score\n",
        "    score = length_of_stay_points + acute_flag_points + charlson_points + ed_visits_points\n",
        "\n",
        "    # Determine assignment based on score and diagnosis_cd\n",
        "    if score > 10:\n",
        "        assignment = True\n",
        "    elif diagnosis_cd == 'CHF' or diagnosis_cd == 'COPD':\n",
        "        assignment = True\n",
        "    else:\n",
        "        assignment = False\n",
        "\n",
        "    return assignment\n",
        "\n",
        "\n",
        ""
      ]
    },
    {
      "cell_type": "code",
      "execution_count": null,
      "metadata": {
        "nbgrader": {
          "grade": true,
          "grade_id": "weight-tests",
          "locked": true,
          "points": 5,
          "schema_version": 1,
          "solution": false
        },
        "id": "WB8qLiehJNb_"
      },
      "outputs": [],
      "source": [
        "assert assign_care_coordinator('None', 0, 4, False, 1) == False\n",
        "assert assign_care_coordinator('CHF', 0, 4, False, 1) == True\n",
        "assert assign_care_coordinator('COPD', 0, 4, False, 1) == True\n",
        "assert assign_care_coordinator('None', 7, 4, True, 4) == True\n",
        "assert assign_care_coordinator('CHF', 7, 4, True, 4) == True"
      ]
    },
    {
      "cell_type": "code",
      "execution_count": null,
      "metadata": {
        "id": "H_OProciJNb_"
      },
      "outputs": [],
      "source": []
    },
    {
      "cell_type": "markdown",
      "metadata": {
        "id": "S3vWhmgbJNb_"
      },
      "source": [
        "### 14.5 qCSI COVID-19 Severity Index\n",
        "\n",
        "See: https://www.mdcalc.com/quick-covid-19-severity-index-qcsi#evidence\n",
        "\n",
        "Calculate the total risk score as per the point values assigned to respiratory rate, pulse oximetry, and O2 flow rate.  Then calculate and return the Risk Level.\n",
        "\n",
        "In addition to the rules provided at the link above, also add the following checks for valid values:\n",
        "* If `respiratory_rate <= 0` then return _invalid respiratory rate_\n",
        "* If `pulse_ox <= 0` then return _invalid pulse ox_\n",
        "* If `pulse_ox > 100` then return _invalid pulse ox_\n",
        "* If `os_flow <= 0` then return _invalid O2 flow rate_"
      ]
    },
    {
      "cell_type": "code",
      "execution_count": 60,
      "metadata": {
        "id": "w8zf6jYWJNb_",
        "outputId": "1e6a274f-2cec-42d5-c99e-4dab1f960d2c",
        "colab": {
          "base_uri": "https://localhost:8080/",
          "height": 106
        }
      },
      "outputs": [
        {
          "output_type": "error",
          "ename": "IndentationError",
          "evalue": "unexpected indent (<ipython-input-60-43098ea1931b>, line 9)",
          "traceback": [
            "\u001b[0;36m  File \u001b[0;32m\"<ipython-input-60-43098ea1931b>\"\u001b[0;36m, line \u001b[0;32m9\u001b[0m\n\u001b[0;31m    resp_rate = 0\u001b[0m\n\u001b[0m    ^\u001b[0m\n\u001b[0;31mIndentationError\u001b[0m\u001b[0;31m:\u001b[0m unexpected indent\n"
          ]
        }
      ],
      "source": [
        "def qcsi(respiratory_rate, pulse_ox, o2_flow):\n",
        "    \"\"\"(int, int, int) -> str\n",
        "    * respiratory_rate is an integer value\n",
        "    * pulse_ox is an integer value (e.g. 30 means 30%)\n",
        "    * o2_flow is an integer value\n",
        "    \"\"\"\n",
        "\n",
        "    ### BEGIN SOLUTION\n",
        "        resp_rate = 0\n",
        "    pulse_rate = 0\n",
        "    o2_rate = 0\n",
        "    risk = ''\n",
        "\n",
        "    # Logic for calculating the respiratory_rate\n",
        "    if respiratory_rate <= 0:\n",
        "        risk = 'invalid respiratory rate'\n",
        "    elif respiratory_rate <= 22:\n",
        "        resp_rate = 1\n",
        "    else:\n",
        "        resp_rate = 2\n",
        "\n",
        "    # Logic for calculating the pulse_oximetry\n",
        "    if pulse_ox <= 0 or pulse_ox > 100:\n",
        "        risk = 'invalid pulse ox'\n",
        "    elif pulse_ox > 92:\n",
        "        pulse_rate = 0\n",
        "        elif pulse_ox > 89 and pulse_ox <= 92:\n",
        "        pulse_rate = 2\n",
        "    else:\n",
        "        pulse_rate = 5\n",
        "\n",
        "    # Logic for calculating the o2_flow_rate\n",
        "    if o2_flow <= 0:\n",
        "        risk = 'invalid o2 flow rate'\n",
        "    elif o2_flow <= 2:\n",
        "        o2_rate = 0\n",
        "    elif o2_flow >= 3 and o2_flow <= 4:\n",
        "        o2_rate = 4\n",
        "    else:\n",
        "        o2_rate = 5\n",
        "        # Calculating the total score\n",
        "    total_score = resp_rate + pulse_rate + o2_rate\n",
        "\n",
        "    # Calculating the risk_value\n",
        "    if risk == '':\n",
        "        if total_score <= 3:\n",
        "            risk = 'low'\n",
        "        elif total_score <= 5:\n",
        "            risk = 'low-intermediate'\n",
        "        elif total_score <= 8:\n",
        "            risk = 'high-intermediate'\n",
        "        else:\n",
        "            risk = 'high'\n",
        "\n",
        "       return risk\n",
        "    ### END SOLUTION"
      ]
    },
    {
      "cell_type": "code",
      "execution_count": null,
      "metadata": {
        "id": "PU548E9JJNb_"
      },
      "outputs": [],
      "source": [
        "assert (qcsi(29, 95, 1) == 'low')\n",
        "assert (qcsi(20, 93, 1) == 'low')\n",
        "assert (qcsi(29, 88, 1) == 'high-intermediate')\n",
        "assert (qcsi(29, 88, 4) == 'high')\n",
        "assert (qcsi(30, 90, 1) == 'low-intermediate')\n",
        "assert (qcsi(28, 92, -1) == 'invalid O2 flow rate')\n",
        "assert (qcsi(22, 0, 4) == 'invalid pulse ox')\n",
        "assert (qcsi(0, 97, 2) == 'invalid respiratory rate')"
      ]
    },
    {
      "cell_type": "markdown",
      "metadata": {
        "id": "cMelaey5JNcA"
      },
      "source": [
        "---\n",
        "\n",
        "## Check your work above\n",
        "\n",
        "If you didn't get them all correct, take a few minutes to think through those that aren't correct.\n",
        "\n",
        "\n",
        "## Submitting Your Work\n",
        "\n",
        "In order to submit your work, you'll need to save this notebook file back to GitHub.  To do that in Google Colab:\n",
        "1. File -> Save a Copy in GitHub\n",
        "2. Make sure your HDS5210 repository is selected\n",
        "3. Make sure the file name includes the week number like this: `week03/week03_assignment_2.ipynb`\n",
        "4. Add a commit message that means something\n",
        "\n",
        "**Be sure week names are lowercase and use a two digit week number!!**\n",
        "\n",
        "**Be sure you use the same file name provided by the instructor!!**\n",
        "\n"
      ]
    },
    {
      "cell_type": "markdown",
      "metadata": {
        "id": "rSCWSDxxJNcA"
      },
      "source": [
        "---"
      ]
    }
  ],
  "metadata": {
    "celltoolbar": "Create Assignment",
    "kernelspec": {
      "display_name": "Python 3",
      "language": "python",
      "name": "python3"
    },
    "language_info": {
      "codemirror_mode": {
        "name": "ipython",
        "version": 3
      },
      "file_extension": ".py",
      "mimetype": "text/x-python",
      "name": "python",
      "nbconvert_exporter": "python",
      "pygments_lexer": "ipython3",
      "version": "3.6.7"
    },
    "colab": {
      "provenance": [],
      "include_colab_link": true
    }
  },
  "nbformat": 4,
  "nbformat_minor": 0
}